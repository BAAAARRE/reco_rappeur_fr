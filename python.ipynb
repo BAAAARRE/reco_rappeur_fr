{
 "cells": [
  {
   "cell_type": "markdown",
   "source": [
    "# Import packages"
   ],
   "metadata": {
    "collapsed": false,
    "pycharm": {
     "name": "#%% md\n"
    }
   }
  },
  {
   "cell_type": "code",
   "execution_count": 3,
   "outputs": [],
   "source": [
    "import pandas as pd\n",
    "from scipy.spatial.distance import pdist, squareform"
   ],
   "metadata": {
    "collapsed": false,
    "pycharm": {
     "name": "#%%\n"
    }
   }
  },
  {
   "cell_type": "markdown",
   "source": [
    "# Load Data"
   ],
   "metadata": {
    "collapsed": false,
    "pycharm": {
     "name": "#%% md\n"
    }
   }
  },
  {
   "cell_type": "code",
   "execution_count": 4,
   "outputs": [
    {
     "data": {
      "text/plain": "         Gims  Kaaris  Maes  Booba  Ninho  Guy2bezbar  Leto  Koba la D  Damso  \\\nuser_id                                                                         \n1           2       3     3      2      5           5     4          5      5   \n2           2       2     3      2      3           1     3          2      4   \n3           2       2     4      3      3           1     3          2      5   \n4           2       3     3      2      4           3     4          4      2   \n5           2       2     3      3      5           3     4          3      4   \n...       ...     ...   ...    ...    ...         ...   ...        ...    ...   \n135         1       1     1      1      1           1     1          1      1   \n136         1       1     2      1      2           2     2          2      2   \n137         3       1     2      5      5           3     3          1      1   \n138         3       1     2      3      2           1     1          2      1   \n139         1       2     1      3      2           1     1          3      4   \n\n         Freeze Corleone  Vald  Nekfeu  Zola  JUL  Niska  Sofiane  Fresh  \\\nuser_id                                                                    \n1                      3     4       4     5    1      5        3      3   \n2                      3     3       5     3    2      4        3      1   \n3                      5     4       5     4    4      4        4      1   \n4                      4     5       4     5    1      2        2      1   \n5                      5     3       4     3    2      4        3      3   \n...                  ...   ...     ...   ...  ...    ...      ...    ...   \n135                    1     1       1     1    1      1        1      1   \n136                    2     2       2     2    1      2        2      2   \n137                    2     2       1     1    4      3        3      2   \n138                    1     1       2     1    2      3        1      1   \n139                    1     3       4     1    3      3        1      1   \n\n         Lomepal  Hamza  Laylow  \nuser_id                          \n1              1      3       3  \n2              3      3       5  \n3              2      2       4  \n4              3      2       4  \n5              1      3       3  \n...          ...    ...     ...  \n135            1      1       1  \n136            2      2       2  \n137            1      1       1  \n138            3      1       1  \n139            4      3       1  \n\n[139 rows x 20 columns]",
      "text/html": "<div>\n<style scoped>\n    .dataframe tbody tr th:only-of-type {\n        vertical-align: middle;\n    }\n\n    .dataframe tbody tr th {\n        vertical-align: top;\n    }\n\n    .dataframe thead th {\n        text-align: right;\n    }\n</style>\n<table border=\"1\" class=\"dataframe\">\n  <thead>\n    <tr style=\"text-align: right;\">\n      <th></th>\n      <th>Gims</th>\n      <th>Kaaris</th>\n      <th>Maes</th>\n      <th>Booba</th>\n      <th>Ninho</th>\n      <th>Guy2bezbar</th>\n      <th>Leto</th>\n      <th>Koba la D</th>\n      <th>Damso</th>\n      <th>Freeze Corleone</th>\n      <th>Vald</th>\n      <th>Nekfeu</th>\n      <th>Zola</th>\n      <th>JUL</th>\n      <th>Niska</th>\n      <th>Sofiane</th>\n      <th>Fresh</th>\n      <th>Lomepal</th>\n      <th>Hamza</th>\n      <th>Laylow</th>\n    </tr>\n    <tr>\n      <th>user_id</th>\n      <th></th>\n      <th></th>\n      <th></th>\n      <th></th>\n      <th></th>\n      <th></th>\n      <th></th>\n      <th></th>\n      <th></th>\n      <th></th>\n      <th></th>\n      <th></th>\n      <th></th>\n      <th></th>\n      <th></th>\n      <th></th>\n      <th></th>\n      <th></th>\n      <th></th>\n      <th></th>\n    </tr>\n  </thead>\n  <tbody>\n    <tr>\n      <th>1</th>\n      <td>2</td>\n      <td>3</td>\n      <td>3</td>\n      <td>2</td>\n      <td>5</td>\n      <td>5</td>\n      <td>4</td>\n      <td>5</td>\n      <td>5</td>\n      <td>3</td>\n      <td>4</td>\n      <td>4</td>\n      <td>5</td>\n      <td>1</td>\n      <td>5</td>\n      <td>3</td>\n      <td>3</td>\n      <td>1</td>\n      <td>3</td>\n      <td>3</td>\n    </tr>\n    <tr>\n      <th>2</th>\n      <td>2</td>\n      <td>2</td>\n      <td>3</td>\n      <td>2</td>\n      <td>3</td>\n      <td>1</td>\n      <td>3</td>\n      <td>2</td>\n      <td>4</td>\n      <td>3</td>\n      <td>3</td>\n      <td>5</td>\n      <td>3</td>\n      <td>2</td>\n      <td>4</td>\n      <td>3</td>\n      <td>1</td>\n      <td>3</td>\n      <td>3</td>\n      <td>5</td>\n    </tr>\n    <tr>\n      <th>3</th>\n      <td>2</td>\n      <td>2</td>\n      <td>4</td>\n      <td>3</td>\n      <td>3</td>\n      <td>1</td>\n      <td>3</td>\n      <td>2</td>\n      <td>5</td>\n      <td>5</td>\n      <td>4</td>\n      <td>5</td>\n      <td>4</td>\n      <td>4</td>\n      <td>4</td>\n      <td>4</td>\n      <td>1</td>\n      <td>2</td>\n      <td>2</td>\n      <td>4</td>\n    </tr>\n    <tr>\n      <th>4</th>\n      <td>2</td>\n      <td>3</td>\n      <td>3</td>\n      <td>2</td>\n      <td>4</td>\n      <td>3</td>\n      <td>4</td>\n      <td>4</td>\n      <td>2</td>\n      <td>4</td>\n      <td>5</td>\n      <td>4</td>\n      <td>5</td>\n      <td>1</td>\n      <td>2</td>\n      <td>2</td>\n      <td>1</td>\n      <td>3</td>\n      <td>2</td>\n      <td>4</td>\n    </tr>\n    <tr>\n      <th>5</th>\n      <td>2</td>\n      <td>2</td>\n      <td>3</td>\n      <td>3</td>\n      <td>5</td>\n      <td>3</td>\n      <td>4</td>\n      <td>3</td>\n      <td>4</td>\n      <td>5</td>\n      <td>3</td>\n      <td>4</td>\n      <td>3</td>\n      <td>2</td>\n      <td>4</td>\n      <td>3</td>\n      <td>3</td>\n      <td>1</td>\n      <td>3</td>\n      <td>3</td>\n    </tr>\n    <tr>\n      <th>...</th>\n      <td>...</td>\n      <td>...</td>\n      <td>...</td>\n      <td>...</td>\n      <td>...</td>\n      <td>...</td>\n      <td>...</td>\n      <td>...</td>\n      <td>...</td>\n      <td>...</td>\n      <td>...</td>\n      <td>...</td>\n      <td>...</td>\n      <td>...</td>\n      <td>...</td>\n      <td>...</td>\n      <td>...</td>\n      <td>...</td>\n      <td>...</td>\n      <td>...</td>\n    </tr>\n    <tr>\n      <th>135</th>\n      <td>1</td>\n      <td>1</td>\n      <td>1</td>\n      <td>1</td>\n      <td>1</td>\n      <td>1</td>\n      <td>1</td>\n      <td>1</td>\n      <td>1</td>\n      <td>1</td>\n      <td>1</td>\n      <td>1</td>\n      <td>1</td>\n      <td>1</td>\n      <td>1</td>\n      <td>1</td>\n      <td>1</td>\n      <td>1</td>\n      <td>1</td>\n      <td>1</td>\n    </tr>\n    <tr>\n      <th>136</th>\n      <td>1</td>\n      <td>1</td>\n      <td>2</td>\n      <td>1</td>\n      <td>2</td>\n      <td>2</td>\n      <td>2</td>\n      <td>2</td>\n      <td>2</td>\n      <td>2</td>\n      <td>2</td>\n      <td>2</td>\n      <td>2</td>\n      <td>1</td>\n      <td>2</td>\n      <td>2</td>\n      <td>2</td>\n      <td>2</td>\n      <td>2</td>\n      <td>2</td>\n    </tr>\n    <tr>\n      <th>137</th>\n      <td>3</td>\n      <td>1</td>\n      <td>2</td>\n      <td>5</td>\n      <td>5</td>\n      <td>3</td>\n      <td>3</td>\n      <td>1</td>\n      <td>1</td>\n      <td>2</td>\n      <td>2</td>\n      <td>1</td>\n      <td>1</td>\n      <td>4</td>\n      <td>3</td>\n      <td>3</td>\n      <td>2</td>\n      <td>1</td>\n      <td>1</td>\n      <td>1</td>\n    </tr>\n    <tr>\n      <th>138</th>\n      <td>3</td>\n      <td>1</td>\n      <td>2</td>\n      <td>3</td>\n      <td>2</td>\n      <td>1</td>\n      <td>1</td>\n      <td>2</td>\n      <td>1</td>\n      <td>1</td>\n      <td>1</td>\n      <td>2</td>\n      <td>1</td>\n      <td>2</td>\n      <td>3</td>\n      <td>1</td>\n      <td>1</td>\n      <td>3</td>\n      <td>1</td>\n      <td>1</td>\n    </tr>\n    <tr>\n      <th>139</th>\n      <td>1</td>\n      <td>2</td>\n      <td>1</td>\n      <td>3</td>\n      <td>2</td>\n      <td>1</td>\n      <td>1</td>\n      <td>3</td>\n      <td>4</td>\n      <td>1</td>\n      <td>3</td>\n      <td>4</td>\n      <td>1</td>\n      <td>3</td>\n      <td>3</td>\n      <td>1</td>\n      <td>1</td>\n      <td>4</td>\n      <td>3</td>\n      <td>1</td>\n    </tr>\n  </tbody>\n</table>\n<p>139 rows × 20 columns</p>\n</div>"
     },
     "execution_count": 4,
     "metadata": {},
     "output_type": "execute_result"
    }
   ],
   "source": [
    "df = pd.read_csv('data/raw_data.csv', index_col='user_id')\n",
    "df = df.iloc[:, 3:]\n",
    "df"
   ],
   "metadata": {
    "collapsed": false,
    "pycharm": {
     "name": "#%%\n"
    }
   }
  },
  {
   "cell_type": "markdown",
   "source": [
    "# Nearest user"
   ],
   "metadata": {
    "collapsed": false,
    "pycharm": {
     "name": "#%% md\n"
    }
   }
  },
  {
   "cell_type": "code",
   "execution_count": 5,
   "outputs": [],
   "source": [
    "df_distance_user = pd.DataFrame(\n",
    "    squareform(pdist(df.values)),\n",
    "    columns = df.index,\n",
    "    index = df.index\n",
    ")"
   ],
   "metadata": {
    "collapsed": false,
    "pycharm": {
     "name": "#%%\n"
    }
   }
  },
  {
   "cell_type": "code",
   "execution_count": 6,
   "outputs": [],
   "source": [
    "def get_n_nearest_user(df_distance_user, id_user, n_user):\n",
    "    distance_one_user = df_distance_user[id_user].sort_values().reset_index()[1:]\n",
    "    distance_one_user.columns = ['user_id', 'distance']\n",
    "    list_nearest_user = list(distance_one_user.iloc[:n_user]['user_id'])\n",
    "    return list_nearest_user"
   ],
   "metadata": {
    "collapsed": false,
    "pycharm": {
     "name": "#%%\n"
    }
   }
  },
  {
   "cell_type": "code",
   "execution_count": 7,
   "outputs": [
    {
     "data": {
      "text/plain": "[130, 5, 81, 63, 87]"
     },
     "execution_count": 7,
     "metadata": {},
     "output_type": "execute_result"
    }
   ],
   "source": [
    "get_n_nearest_user(df_distance_user, id_user=20, n_user=5)"
   ],
   "metadata": {
    "collapsed": false,
    "pycharm": {
     "name": "#%%\n"
    }
   }
  },
  {
   "cell_type": "code",
   "execution_count": 8,
   "outputs": [
    {
     "data": {
      "text/plain": "         Gims  Kaaris  Maes  Booba  Ninho  Guy2bezbar  Leto  Koba la D  Damso  \\\nuser_id                                                                         \n20          1       3     1      3      5           2     3          2      4   \n130         2       2     2      2      5           1     2          2      4   \n5           2       2     3      3      5           3     4          3      4   \n81          2       2     2      4      2           1     1          1      4   \n63          1       3     4      4      5           2     3          2      5   \n87          1       2     4      1      5           1     3          3      4   \n\n         Freeze Corleone  Vald  Nekfeu  Zola  JUL  Niska  Sofiane  Fresh  \\\nuser_id                                                                    \n20                     5     5       3     2    3      4        3      1   \n130                    4     4       3     3    1      5        3      1   \n5                      5     3       4     3    2      4        3      3   \n81                     4     4       3     1    4      4        3      1   \n63                     5     5       5     3    5      4        1      1   \n87                     3     5       4     3    2      4        3      1   \n\n         Lomepal  Hamza  Laylow  \nuser_id                          \n20             2      2       2  \n130            1      3       2  \n5              1      3       3  \n81             2      3       2  \n63             1      3       2  \n87             3      3       1  ",
      "text/html": "<div>\n<style scoped>\n    .dataframe tbody tr th:only-of-type {\n        vertical-align: middle;\n    }\n\n    .dataframe tbody tr th {\n        vertical-align: top;\n    }\n\n    .dataframe thead th {\n        text-align: right;\n    }\n</style>\n<table border=\"1\" class=\"dataframe\">\n  <thead>\n    <tr style=\"text-align: right;\">\n      <th></th>\n      <th>Gims</th>\n      <th>Kaaris</th>\n      <th>Maes</th>\n      <th>Booba</th>\n      <th>Ninho</th>\n      <th>Guy2bezbar</th>\n      <th>Leto</th>\n      <th>Koba la D</th>\n      <th>Damso</th>\n      <th>Freeze Corleone</th>\n      <th>Vald</th>\n      <th>Nekfeu</th>\n      <th>Zola</th>\n      <th>JUL</th>\n      <th>Niska</th>\n      <th>Sofiane</th>\n      <th>Fresh</th>\n      <th>Lomepal</th>\n      <th>Hamza</th>\n      <th>Laylow</th>\n    </tr>\n    <tr>\n      <th>user_id</th>\n      <th></th>\n      <th></th>\n      <th></th>\n      <th></th>\n      <th></th>\n      <th></th>\n      <th></th>\n      <th></th>\n      <th></th>\n      <th></th>\n      <th></th>\n      <th></th>\n      <th></th>\n      <th></th>\n      <th></th>\n      <th></th>\n      <th></th>\n      <th></th>\n      <th></th>\n      <th></th>\n    </tr>\n  </thead>\n  <tbody>\n    <tr>\n      <th>20</th>\n      <td>1</td>\n      <td>3</td>\n      <td>1</td>\n      <td>3</td>\n      <td>5</td>\n      <td>2</td>\n      <td>3</td>\n      <td>2</td>\n      <td>4</td>\n      <td>5</td>\n      <td>5</td>\n      <td>3</td>\n      <td>2</td>\n      <td>3</td>\n      <td>4</td>\n      <td>3</td>\n      <td>1</td>\n      <td>2</td>\n      <td>2</td>\n      <td>2</td>\n    </tr>\n    <tr>\n      <th>130</th>\n      <td>2</td>\n      <td>2</td>\n      <td>2</td>\n      <td>2</td>\n      <td>5</td>\n      <td>1</td>\n      <td>2</td>\n      <td>2</td>\n      <td>4</td>\n      <td>4</td>\n      <td>4</td>\n      <td>3</td>\n      <td>3</td>\n      <td>1</td>\n      <td>5</td>\n      <td>3</td>\n      <td>1</td>\n      <td>1</td>\n      <td>3</td>\n      <td>2</td>\n    </tr>\n    <tr>\n      <th>5</th>\n      <td>2</td>\n      <td>2</td>\n      <td>3</td>\n      <td>3</td>\n      <td>5</td>\n      <td>3</td>\n      <td>4</td>\n      <td>3</td>\n      <td>4</td>\n      <td>5</td>\n      <td>3</td>\n      <td>4</td>\n      <td>3</td>\n      <td>2</td>\n      <td>4</td>\n      <td>3</td>\n      <td>3</td>\n      <td>1</td>\n      <td>3</td>\n      <td>3</td>\n    </tr>\n    <tr>\n      <th>81</th>\n      <td>2</td>\n      <td>2</td>\n      <td>2</td>\n      <td>4</td>\n      <td>2</td>\n      <td>1</td>\n      <td>1</td>\n      <td>1</td>\n      <td>4</td>\n      <td>4</td>\n      <td>4</td>\n      <td>3</td>\n      <td>1</td>\n      <td>4</td>\n      <td>4</td>\n      <td>3</td>\n      <td>1</td>\n      <td>2</td>\n      <td>3</td>\n      <td>2</td>\n    </tr>\n    <tr>\n      <th>63</th>\n      <td>1</td>\n      <td>3</td>\n      <td>4</td>\n      <td>4</td>\n      <td>5</td>\n      <td>2</td>\n      <td>3</td>\n      <td>2</td>\n      <td>5</td>\n      <td>5</td>\n      <td>5</td>\n      <td>5</td>\n      <td>3</td>\n      <td>5</td>\n      <td>4</td>\n      <td>1</td>\n      <td>1</td>\n      <td>1</td>\n      <td>3</td>\n      <td>2</td>\n    </tr>\n    <tr>\n      <th>87</th>\n      <td>1</td>\n      <td>2</td>\n      <td>4</td>\n      <td>1</td>\n      <td>5</td>\n      <td>1</td>\n      <td>3</td>\n      <td>3</td>\n      <td>4</td>\n      <td>3</td>\n      <td>5</td>\n      <td>4</td>\n      <td>3</td>\n      <td>2</td>\n      <td>4</td>\n      <td>3</td>\n      <td>1</td>\n      <td>3</td>\n      <td>3</td>\n      <td>1</td>\n    </tr>\n  </tbody>\n</table>\n</div>"
     },
     "execution_count": 8,
     "metadata": {},
     "output_type": "execute_result"
    }
   ],
   "source": [
    "df.loc[[20, 130, 5, 81, 63, 87]]"
   ],
   "metadata": {
    "collapsed": false,
    "pycharm": {
     "name": "#%%\n"
    }
   }
  },
  {
   "cell_type": "code",
   "execution_count": 8,
   "outputs": [],
   "source": [],
   "metadata": {
    "collapsed": false,
    "pycharm": {
     "name": "#%%\n"
    }
   }
  },
  {
   "cell_type": "markdown",
   "source": [
    "# Reco"
   ],
   "metadata": {
    "collapsed": false,
    "pycharm": {
     "name": "#%% md\n"
    }
   }
  },
  {
   "cell_type": "code",
   "execution_count": 10,
   "outputs": [],
   "source": [
    "list_all_favorite_artist = list(df[df >= 4].apply(lambda x: list(x.dropna().index), axis=1).values)\n",
    "df['favorite_artist'] = [\", \".join(i) for i in list_all_favorite_artist]"
   ],
   "metadata": {
    "collapsed": false,
    "pycharm": {
     "name": "#%%\n"
    }
   }
  },
  {
   "cell_type": "code",
   "execution_count": 12,
   "outputs": [
    {
     "name": "stderr",
     "output_type": "stream",
     "text": [
      "C:\\Users\\flore\\AppData\\Local\\Temp\\ipykernel_24756\\3450543936.py:1: FutureWarning: The default value of numeric_only in DataFrame.corr is deprecated. In a future version, it will default to False. Select only valid columns or specify the value of numeric_only to silence this warning.\n",
      "  correlation_matrix = df.corr()\n"
     ]
    }
   ],
   "source": [
    "correlation_matrix = df.corr()"
   ],
   "metadata": {
    "collapsed": false,
    "pycharm": {
     "name": "#%%\n"
    }
   }
  },
  {
   "cell_type": "code",
   "execution_count": 13,
   "outputs": [],
   "source": [
    "def get_reco_one_rappeur(correlation_matrix, rappeur, n_rappeur):\n",
    "    return list(correlation_matrix[rappeur].sort_values(ascending=False)[1:n_rappeur+1].index)"
   ],
   "metadata": {
    "collapsed": false,
    "pycharm": {
     "name": "#%%\n"
    }
   }
  },
  {
   "cell_type": "code",
   "execution_count": 14,
   "outputs": [],
   "source": [
    "# 70 chaque artiste et 77 tout ce qui est mainstream"
   ],
   "metadata": {
    "collapsed": false,
    "pycharm": {
     "name": "#%%\n"
    }
   }
  },
  {
   "cell_type": "code",
   "execution_count": 15,
   "outputs": [
    {
     "data": {
      "text/plain": "['Ninho',\n 'Guy2bezbar',\n 'Leto',\n 'Koba la D',\n 'Damso',\n 'Vald',\n 'Nekfeu',\n 'Zola',\n 'Niska']"
     },
     "execution_count": 15,
     "metadata": {},
     "output_type": "execute_result"
    }
   ],
   "source": [
    "favorite_artist = list_all_favorite_artist[0]\n",
    "favorite_artist"
   ],
   "metadata": {
    "collapsed": false,
    "pycharm": {
     "name": "#%%\n"
    }
   }
  },
  {
   "cell_type": "code",
   "execution_count": 16,
   "outputs": [
    {
     "data": {
      "text/plain": "'Artistes recommandés : Freeze Corleone, Maes, Lomepal, Laylow'"
     },
     "execution_count": 16,
     "metadata": {},
     "output_type": "execute_result"
    }
   ],
   "source": [
    "if len(favorite_artist) > 0:\n",
    "    rappeur_reco = []\n",
    "    for rappeur in favorite_artist:\n",
    "        rappeur_reco.extend(get_reco_one_rappeur(correlation_matrix, rappeur, 2))\n",
    "\n",
    "    rappeur_reco = list(set(rappeur_reco))\n",
    "    rappeur_reco = [rappeur for rappeur in rappeur_reco if rappeur not in favorite_artist]\n",
    "    rappeur_reco = 'Artistes recommandés : ' + ', '.join(rappeur_reco)\n",
    "else:\n",
    "    rappeur_reco = \"Pas d'artiste à recommander\"\n",
    "\n",
    "rappeur_reco"
   ],
   "metadata": {
    "collapsed": false,
    "pycharm": {
     "name": "#%%\n"
    }
   }
  },
  {
   "cell_type": "code",
   "execution_count": 16,
   "outputs": [],
   "source": [],
   "metadata": {
    "collapsed": false,
    "pycharm": {
     "name": "#%%\n"
    }
   }
  },
  {
   "cell_type": "code",
   "execution_count": 17,
   "outputs": [],
   "source": [
    "def get_reco_rappeur_all_favorite(favorite_artist, correlation_matrix):\n",
    "    if len(favorite_artist) > 0:\n",
    "        rappeur_reco = []\n",
    "        for rappeur in favorite_artist:\n",
    "            rappeur_reco.extend(get_reco_one_rappeur(correlation_matrix, rappeur, 2))\n",
    "\n",
    "        rappeur_reco = list(set(rappeur_reco))\n",
    "        rappeur_reco = [rappeur for rappeur in rappeur_reco if rappeur not in favorite_artist]\n",
    "        rappeur_reco = \", \".join(rappeur_reco)\n",
    "    else:\n",
    "        rappeur_reco = \"Pas d'artiste à recommander\"\n",
    "\n",
    "    return rappeur_reco"
   ],
   "metadata": {
    "collapsed": false,
    "pycharm": {
     "name": "#%%\n"
    }
   }
  },
  {
   "cell_type": "code",
   "execution_count": 17,
   "outputs": [],
   "source": [],
   "metadata": {
    "collapsed": false,
    "pycharm": {
     "name": "#%%\n"
    }
   }
  },
  {
   "cell_type": "code",
   "execution_count": 18,
   "outputs": [],
   "source": [
    "reco = []\n",
    "for favorite_artist in list_all_favorite_artist:\n",
    "    reco.append(get_reco_rappeur_all_favorite(favorite_artist, correlation_matrix))"
   ],
   "metadata": {
    "collapsed": false,
    "pycharm": {
     "name": "#%%\n"
    }
   }
  },
  {
   "cell_type": "code",
   "execution_count": 19,
   "outputs": [
    {
     "data": {
      "text/plain": "['Freeze Corleone, Maes, Lomepal, Laylow',\n 'Zola, Vald, Hamza, Maes, Lomepal, Ninho',\n 'Leto, Kaaris, Hamza, Ninho, Lomepal',\n 'Hamza, Damso, Maes, Lomepal, Niska',\n 'Vald, Maes, Laylow, Lomepal, Zola',\n 'Kaaris, Leto, Hamza, Niska',\n \"Pas d'artiste à recommander\",\n 'Hamza, Maes, Lomepal, Zola, Niska',\n 'Kaaris, Zola, Vald, Lomepal, Laylow',\n \"Pas d'artiste à recommander\",\n \"Pas d'artiste à recommander\",\n 'Freeze Corleone, Laylow',\n \"Pas d'artiste à recommander\",\n 'Kaaris, Zola, Vald, Niska',\n 'Freeze Corleone, Nekfeu, Damso, Niska',\n 'Maes, Zola, Niska',\n 'Vald',\n 'Kaaris, Vald, Maes, Nekfeu, Niska',\n 'Kaaris, Leto, Freeze Corleone, Laylow, Damso',\n 'Maes, Nekfeu, Laylow',\n 'Kaaris, Zola, Hamza, Niska',\n 'Leto, Kaaris, JUL, Guy2bezbar',\n 'Leto, Freeze Corleone, Hamza',\n \"Pas d'artiste à recommander\",\n 'Nekfeu, Damso',\n \"Pas d'artiste à recommander\",\n 'Freeze Corleone, Maes, Nekfeu, Zola, Niska',\n \"Pas d'artiste à recommander\",\n 'Damso',\n 'Freeze Corleone, Damso',\n 'Kaaris, Vald, Lomepal, Zola',\n \"Pas d'artiste à recommander\",\n \"Pas d'artiste à recommander\",\n \"Pas d'artiste à recommander\",\n 'Freeze Corleone, Maes, Niska',\n \"Pas d'artiste à recommander\",\n \"Pas d'artiste à recommander\",\n \"Pas d'artiste à recommander\",\n 'Kaaris, Freeze Corleone, Maes, Niska',\n \"Pas d'artiste à recommander\",\n 'Kaaris, Zola, Nekfeu, Niska',\n 'JUL, Freeze Corleone, Maes, Ninho, Lomepal, Sofiane, Niska',\n \"Pas d'artiste à recommander\",\n \"Pas d'artiste à recommander\",\n 'Freeze Corleone, Ninho',\n \"Pas d'artiste à recommander\",\n 'Nekfeu, Damso',\n \"Pas d'artiste à recommander\",\n 'Kaaris, JUL, Vald, Maes, Nekfeu',\n 'Kaaris, Freeze Corleone, Maes, Ninho',\n \"Pas d'artiste à recommander\",\n 'Kaaris, Zola, Freeze Corleone, Hamza, Nekfeu',\n 'Zola, Hamza, Maes',\n 'Maes, Freeze Corleone, Damso, Niska',\n 'JUL, Maes',\n 'Maes, Lomepal',\n \"Pas d'artiste à recommander\",\n 'Leto, JUL, Vald, Niska',\n \"Pas d'artiste à recommander\",\n 'Kaaris, Zola, Vald, Hamza',\n 'Hamza, Ninho, Niska',\n 'Freeze Corleone, Lomepal',\n 'Kaaris, Laylow, Lomepal',\n \"Pas d'artiste à recommander\",\n 'Vald, Maes, Ninho, Laylow, Guy2bezbar',\n 'Vald',\n \"Pas d'artiste à recommander\",\n 'Damso',\n 'Zola, Maes, Laylow, Niska',\n 'Kaaris, Zola, Hamza, Lomepal, Niska',\n 'Nekfeu, Damso',\n 'Vald, Maes, Laylow, Lomepal',\n 'Leto, Vald, Maes, Nekfeu',\n 'JUL, Freeze Corleone, Maes, Nekfeu, Niska',\n 'Nekfeu, Damso',\n 'Freeze Corleone, Damso',\n 'Zola, Nekfeu, Damso, Hamza',\n 'Kaaris, Niska',\n \"Pas d'artiste à recommander\",\n 'JUL, Vald, Ninho',\n 'Kaaris, Maes, Nekfeu, Laylow, Ninho',\n \"Pas d'artiste à recommander\",\n \"Pas d'artiste à recommander\",\n 'Maes, Lomepal, Damso, Niska',\n 'Damso',\n \"Pas d'artiste à recommander\",\n 'Freeze Corleone, Lomepal',\n 'Zola, Maes, Ninho',\n 'JUL, Ninho, Damso, Nekfeu',\n 'Damso, Maes, Zola',\n 'Zola, JUL, Freeze Corleone, Hamza, Ninho',\n 'Vald, Maes, Niska',\n 'Vald, Maes',\n 'Vald, Maes, Lomepal, Niska',\n 'JUL, Ninho',\n \"Pas d'artiste à recommander\",\n 'Lomepal, JUL, Ninho, Damso',\n 'Kaaris, Leto',\n \"Pas d'artiste à recommander\",\n \"Pas d'artiste à recommander\",\n \"Pas d'artiste à recommander\",\n 'Lomepal, Damso',\n 'Kaaris, Vald, Maes',\n 'Sofiane, Maes, Niska',\n 'Zola, Vald, Maes, Niska',\n \"Pas d'artiste à recommander\",\n 'Zola, Freeze Corleone, Nekfeu, Niska',\n 'Lomepal, Damso',\n 'Kaaris, Vald, Lomepal, Niska',\n 'Kaaris, Vald, Laylow',\n 'Kaaris, Zola, JUL, Maes, Niska',\n \"Pas d'artiste à recommander\",\n 'Vald, Lomepal, Niska',\n 'Leto, Freeze Corleone, Maes, Laylow',\n 'Lomepal, Damso',\n 'Damso',\n 'Nekfeu, Damso',\n 'Damso',\n 'Maes, JUL, Niska',\n 'Vald, Maes, Nekfeu',\n 'Leto, Freeze Corleone, Ninho, Niska',\n \"Pas d'artiste à recommander\",\n \"Pas d'artiste à recommander\",\n 'Ninho',\n \"Pas d'artiste à recommander\",\n 'Leto, Freeze Corleone, Laylow, Damso',\n \"Pas d'artiste à recommander\",\n 'Nekfeu, Damso',\n 'Freeze Corleone',\n 'Maes, Nekfeu, Laylow',\n 'JUL, Ninho, Nekfeu, Vald',\n 'Maes, Niska',\n 'Maes, Laylow, Guy2bezbar, Zola',\n \"Pas d'artiste à recommander\",\n \"Pas d'artiste à recommander\",\n \"Pas d'artiste à recommander\",\n 'Kaaris, Maes, Niska',\n \"Pas d'artiste à recommander\",\n 'Vald']"
     },
     "execution_count": 19,
     "metadata": {},
     "output_type": "execute_result"
    }
   ],
   "source": [
    "reco"
   ],
   "metadata": {
    "collapsed": false,
    "pycharm": {
     "name": "#%%\n"
    }
   }
  },
  {
   "cell_type": "code",
   "execution_count": 20,
   "outputs": [],
   "source": [
    "df['reco'] = reco"
   ],
   "metadata": {
    "collapsed": false,
    "pycharm": {
     "name": "#%%\n"
    }
   }
  },
  {
   "cell_type": "code",
   "execution_count": 25,
   "outputs": [
    {
     "data": {
      "text/plain": "                                           favorite_artist  \\\nuser_id                                                      \n1        Ninho, Guy2bezbar, Leto, Koba la D, Damso, Val...   \n2                             Damso, Nekfeu, Niska, Laylow   \n3        Maes, Damso, Freeze Corleone, Vald, Nekfeu, Zo...   \n4        Ninho, Leto, Koba la D, Freeze Corleone, Vald,...   \n5        Ninho, Leto, Damso, Freeze Corleone, Nekfeu, N...   \n...                                                    ...   \n135                                                          \n136                                                          \n137                                      Booba, Ninho, JUL   \n138                                                          \n139                                 Damso, Nekfeu, Lomepal   \n\n                                            reco  \nuser_id                                           \n1         Freeze Corleone, Maes, Lomepal, Laylow  \n2        Zola, Vald, Hamza, Maes, Lomepal, Ninho  \n3            Leto, Kaaris, Hamza, Ninho, Lomepal  \n4             Hamza, Damso, Maes, Lomepal, Niska  \n5              Vald, Maes, Laylow, Lomepal, Zola  \n...                                          ...  \n135                  Pas d'artiste à recommander  \n136                  Pas d'artiste à recommander  \n137                          Kaaris, Maes, Niska  \n138                  Pas d'artiste à recommander  \n139                                         Vald  \n\n[139 rows x 2 columns]",
      "text/html": "<div>\n<style scoped>\n    .dataframe tbody tr th:only-of-type {\n        vertical-align: middle;\n    }\n\n    .dataframe tbody tr th {\n        vertical-align: top;\n    }\n\n    .dataframe thead th {\n        text-align: right;\n    }\n</style>\n<table border=\"1\" class=\"dataframe\">\n  <thead>\n    <tr style=\"text-align: right;\">\n      <th></th>\n      <th>favorite_artist</th>\n      <th>reco</th>\n    </tr>\n    <tr>\n      <th>user_id</th>\n      <th></th>\n      <th></th>\n    </tr>\n  </thead>\n  <tbody>\n    <tr>\n      <th>1</th>\n      <td>Ninho, Guy2bezbar, Leto, Koba la D, Damso, Val...</td>\n      <td>Freeze Corleone, Maes, Lomepal, Laylow</td>\n    </tr>\n    <tr>\n      <th>2</th>\n      <td>Damso, Nekfeu, Niska, Laylow</td>\n      <td>Zola, Vald, Hamza, Maes, Lomepal, Ninho</td>\n    </tr>\n    <tr>\n      <th>3</th>\n      <td>Maes, Damso, Freeze Corleone, Vald, Nekfeu, Zo...</td>\n      <td>Leto, Kaaris, Hamza, Ninho, Lomepal</td>\n    </tr>\n    <tr>\n      <th>4</th>\n      <td>Ninho, Leto, Koba la D, Freeze Corleone, Vald,...</td>\n      <td>Hamza, Damso, Maes, Lomepal, Niska</td>\n    </tr>\n    <tr>\n      <th>5</th>\n      <td>Ninho, Leto, Damso, Freeze Corleone, Nekfeu, N...</td>\n      <td>Vald, Maes, Laylow, Lomepal, Zola</td>\n    </tr>\n    <tr>\n      <th>...</th>\n      <td>...</td>\n      <td>...</td>\n    </tr>\n    <tr>\n      <th>135</th>\n      <td></td>\n      <td>Pas d'artiste à recommander</td>\n    </tr>\n    <tr>\n      <th>136</th>\n      <td></td>\n      <td>Pas d'artiste à recommander</td>\n    </tr>\n    <tr>\n      <th>137</th>\n      <td>Booba, Ninho, JUL</td>\n      <td>Kaaris, Maes, Niska</td>\n    </tr>\n    <tr>\n      <th>138</th>\n      <td></td>\n      <td>Pas d'artiste à recommander</td>\n    </tr>\n    <tr>\n      <th>139</th>\n      <td>Damso, Nekfeu, Lomepal</td>\n      <td>Vald</td>\n    </tr>\n  </tbody>\n</table>\n<p>139 rows × 2 columns</p>\n</div>"
     },
     "execution_count": 25,
     "metadata": {},
     "output_type": "execute_result"
    }
   ],
   "source": [
    "df[['favorite_artist', 'reco']]"
   ],
   "metadata": {
    "collapsed": false,
    "pycharm": {
     "name": "#%%\n"
    }
   }
  },
  {
   "cell_type": "code",
   "execution_count": 21,
   "outputs": [],
   "source": [],
   "metadata": {
    "collapsed": false,
    "pycharm": {
     "name": "#%%\n"
    }
   }
  },
  {
   "cell_type": "code",
   "execution_count": 21,
   "outputs": [],
   "source": [],
   "metadata": {
    "collapsed": false,
    "pycharm": {
     "name": "#%%\n"
    }
   }
  },
  {
   "cell_type": "code",
   "execution_count": 21,
   "outputs": [],
   "source": [],
   "metadata": {
    "collapsed": false,
    "pycharm": {
     "name": "#%%\n"
    }
   }
  },
  {
   "cell_type": "code",
   "execution_count": 21,
   "outputs": [],
   "source": [],
   "metadata": {
    "collapsed": false,
    "pycharm": {
     "name": "#%%\n"
    }
   }
  },
  {
   "cell_type": "code",
   "execution_count": 21,
   "outputs": [],
   "source": [],
   "metadata": {
    "collapsed": false,
    "pycharm": {
     "name": "#%%\n"
    }
   }
  },
  {
   "cell_type": "code",
   "execution_count": 21,
   "outputs": [],
   "source": [],
   "metadata": {
    "collapsed": false,
    "pycharm": {
     "name": "#%%\n"
    }
   }
  },
  {
   "cell_type": "code",
   "execution_count": 21,
   "outputs": [],
   "source": [],
   "metadata": {
    "collapsed": false,
    "pycharm": {
     "name": "#%%\n"
    }
   }
  }
 ],
 "metadata": {
  "kernelspec": {
   "display_name": "Python 3",
   "language": "python",
   "name": "python3"
  },
  "language_info": {
   "codemirror_mode": {
    "name": "ipython",
    "version": 2
   },
   "file_extension": ".py",
   "mimetype": "text/x-python",
   "name": "python",
   "nbconvert_exporter": "python",
   "pygments_lexer": "ipython2",
   "version": "2.7.6"
  }
 },
 "nbformat": 4,
 "nbformat_minor": 0
}